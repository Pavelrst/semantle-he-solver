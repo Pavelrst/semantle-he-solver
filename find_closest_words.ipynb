{
 "cells": [
  {
   "cell_type": "code",
   "execution_count": 21,
   "outputs": [],
   "source": [
    "import gensim.downloader as api\n",
    "import gensim.models.keyedvectors as word2vec\n",
    "import numpy as np\n",
    "import os\n",
    "import matplotlib.pyplot as plt\n",
    "import pandas as pd\n",
    "from scipy.spatial import distance"
   ],
   "metadata": {
    "collapsed": false,
    "pycharm": {
     "name": "#%%\n"
    }
   }
  },
  {
   "cell_type": "code",
   "execution_count": 22,
   "outputs": [],
   "source": [
    "from sklearn.preprocessing import normalize\n",
    "\n",
    "# Load the model\n",
    "model = word2vec.KeyedVectors.load('model.mdl').wv\n",
    "word_corpus = model.index_to_key.copy()\n",
    "corpus_vecs = np.load('model.mdl.wv.vectors.npy').T\n",
    "corpus_vecs = normalize(corpus_vecs, axis=0, norm='l2')"
   ],
   "metadata": {
    "collapsed": false,
    "pycharm": {
     "name": "#%%\n"
    }
   }
  },
  {
   "cell_type": "markdown",
   "source": [
    "### Find the most close words to the target word"
   ],
   "metadata": {
    "collapsed": false
   }
  },
  {
   "cell_type": "code",
   "execution_count": 23,
   "outputs": [
    {
     "data": {
      "text/plain": "['מפוחית', 'גיטרה', 'סקסופון', 'מלודיקה', 'מנדולינה', 'טרומבון']"
     },
     "execution_count": 23,
     "metadata": {},
     "output_type": "execute_result"
    }
   ],
   "source": [
    "TARGET_WORD = 'מפוחית'\n",
    "TOPK = 5\n",
    "\n",
    "target_index = word_corpus.index(TARGET_WORD)\n",
    "target_vec = corpus_vecs[:,target_index]\n",
    "ratings = target_vec.dot(corpus_vecs)\n",
    "\n",
    "df = pd.DataFrame({'word': word_corpus, 'rating': ratings})\n",
    "df.sort_values(by='rating', ascending=False).head(TOPK+1)['word'].tolist()"
   ],
   "metadata": {
    "collapsed": false,
    "pycharm": {
     "name": "#%%\n"
    }
   }
  }
 ],
 "metadata": {
  "kernelspec": {
   "display_name": "Python 3",
   "language": "python",
   "name": "python3"
  },
  "language_info": {
   "codemirror_mode": {
    "name": "ipython",
    "version": 2
   },
   "file_extension": ".py",
   "mimetype": "text/x-python",
   "name": "python",
   "nbconvert_exporter": "python",
   "pygments_lexer": "ipython2",
   "version": "2.7.6"
  }
 },
 "nbformat": 4,
 "nbformat_minor": 0
}